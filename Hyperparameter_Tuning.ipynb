{
 "cells": [
  {
   "cell_type": "code",
   "execution_count": 2,
   "id": "7c6a7c52-9131-44a7-b731-45e3d73f6bc3",
   "metadata": {},
   "outputs": [],
   "source": [
    "import os\n",
    "from torchvision import datasets, transforms\n",
    "from torch.utils.data import DataLoader\n",
    "import torch\n",
    "import torch.nn as nn\n",
    "import torch.optim as optim\n",
    "import torch.nn.functional as F\n",
    "import time\n",
    "import torchvision.models as models\n",
    "from matplotlib import pyplot as plt\n",
    "import optuna"
   ]
  },
  {
   "cell_type": "code",
   "execution_count": 4,
   "id": "5538b2f3-b08c-49f3-b806-fc68c7394fbe",
   "metadata": {},
   "outputs": [
    {
     "data": {
      "text/plain": [
       "device(type='mps')"
      ]
     },
     "execution_count": 4,
     "metadata": {},
     "output_type": "execute_result"
    }
   ],
   "source": [
    "device = torch.device(\"cuda\" if torch.cuda.is_available() else \"mps\")\n",
    "device"
   ]
  },
  {
   "cell_type": "code",
   "execution_count": 6,
   "id": "529f5bc1-29f5-483d-b856-f752a8a24755",
   "metadata": {},
   "outputs": [],
   "source": [
    "image_transforms = transforms.Compose([\n",
    "    transforms.RandomHorizontalFlip(),\n",
    "    transforms.RandomRotation(10),\n",
    "    transforms.ColorJitter(brightness=0.2, contrast=0.2),\n",
    "    transforms.Resize((224, 224)),\n",
    "    transforms.ToTensor(),\n",
    "    transforms.Normalize(mean=[0.485, 0.456, 0.406], std=[0.229, 0.224, 0.225])\n",
    "])"
   ]
  },
  {
   "cell_type": "code",
   "execution_count": 8,
   "id": "f588f83a-fd69-4185-ba54-3c343931dbca",
   "metadata": {},
   "outputs": [
    {
     "data": {
      "text/plain": [
       "2300"
      ]
     },
     "execution_count": 8,
     "metadata": {},
     "output_type": "execute_result"
    }
   ],
   "source": [
    "path = \"./dataset\"\n",
    "\n",
    "dataset = datasets.ImageFolder(root=path, transform=image_transforms)\n",
    "len(dataset)"
   ]
  },
  {
   "cell_type": "code",
   "execution_count": 14,
   "id": "7b1243e2-1728-4f7b-aef1-d4f88fe06ced",
   "metadata": {},
   "outputs": [
    {
     "data": {
      "text/plain": [
       "['F_Breakage', 'F_Crushed', 'F_Normal', 'R_Breakage', 'R_Crushed', 'R_Normal']"
      ]
     },
     "execution_count": 14,
     "metadata": {},
     "output_type": "execute_result"
    }
   ],
   "source": [
    "class_names=dataset.classes\n",
    "class_names"
   ]
  },
  {
   "cell_type": "code",
   "execution_count": 28,
   "id": "1a06b681-5b48-41e4-a103-11b246b8d540",
   "metadata": {},
   "outputs": [
    {
     "data": {
      "text/plain": [
       "6"
      ]
     },
     "execution_count": 28,
     "metadata": {},
     "output_type": "execute_result"
    }
   ],
   "source": [
    "num_classes=len(dataset.classes)\n",
    "num_classes"
   ]
  },
  {
   "cell_type": "code",
   "execution_count": 20,
   "id": "99da7367-d8cd-41d0-8885-6774a64187dc",
   "metadata": {},
   "outputs": [
    {
     "name": "stdout",
     "output_type": "stream",
     "text": [
      "1725 575\n"
     ]
    }
   ],
   "source": [
    "train_size=int(len(dataset)*0.75)\n",
    "val_size=len(dataset)-train_size\n",
    "print(train_size,val_size)"
   ]
  },
  {
   "cell_type": "code",
   "execution_count": 22,
   "id": "a840d197-64e3-4b93-b279-e8bf40dead26",
   "metadata": {},
   "outputs": [],
   "source": [
    "from torch.utils.data import random_split\n",
    "\n",
    "train_dataset,val_dataset=random_split(dataset,[train_size,val_size])"
   ]
  },
  {
   "cell_type": "code",
   "execution_count": 24,
   "id": "6ec45ef8-0ca5-4ba2-b497-072ba256a8a5",
   "metadata": {},
   "outputs": [],
   "source": [
    "train_loader=DataLoader(train_dataset,shuffle=True,batch_size=64)\n",
    "val_loader=DataLoader(val_dataset,shuffle=True,batch_size=64)"
   ]
  },
  {
   "cell_type": "code",
   "execution_count": 26,
   "id": "55c62c7f-b635-4130-8411-b91efb053c76",
   "metadata": {},
   "outputs": [
    {
     "name": "stdout",
     "output_type": "stream",
     "text": [
      "torch.Size([64, 3, 224, 224])\n",
      "torch.Size([64])\n"
     ]
    }
   ],
   "source": [
    "for images,labels in train_loader:\n",
    "    print(images.shape)\n",
    "    print(labels.shape)\n",
    "    break"
   ]
  },
  {
   "cell_type": "code",
   "execution_count": 40,
   "id": "7e621903-a29b-45bf-9667-bb52a57d6c88",
   "metadata": {},
   "outputs": [],
   "source": [
    "#model training and hyperparameter tuning\n",
    "\n",
    "\n",
    "class carclassifierResnet50(nn.Module):\n",
    "    def __init__(self,num_classes,dropout_rate=0.5):\n",
    "        super().__init__()\n",
    "        self.model = models.resnet50(weights='DEFAULT')\n",
    "        for params in self.model.parameters():\n",
    "            params.requires_grad=False\n",
    "        for params in self.model.layer4.parameters():\n",
    "            params.requires_grad=True\n",
    "        self.model.fc=nn.Sequential(\n",
    "            nn.Dropout(dropout_rate),\n",
    "            nn.Linear(self.model.fc.in_features,num_classes))\n",
    "\n",
    "    def forward(self,x):\n",
    "            x=self.model(x)\n",
    "            return x  "
   ]
  },
  {
   "cell_type": "code",
   "execution_count": 48,
   "id": "9f3d02ab-4076-4910-9865-1a5fea98411d",
   "metadata": {},
   "outputs": [
    {
     "name": "stderr",
     "output_type": "stream",
     "text": [
      "[I 2025-04-16 19:56:59,320] A new study created in memory with name: no-name-fb5c68c5-71fe-4f4b-81cf-adc82c942807\n",
      "[I 2025-04-16 19:59:13,048] Trial 0 finished with value: 69.91304347826087 and parameters: {'dropout_rate': 0.24449142096755172, 'lr': 0.0003310013721784448}. Best is trial 0 with value: 69.91304347826087.\n"
     ]
    },
    {
     "name": "stdout",
     "output_type": "stream",
     "text": [
      "execution time 133.06328511238098 seconds\n"
     ]
    },
    {
     "name": "stderr",
     "output_type": "stream",
     "text": [
      "[I 2025-04-16 20:01:21,896] Trial 1 finished with value: 75.30434782608695 and parameters: {'dropout_rate': 0.36137896746955295, 'lr': 0.0015735613001326037}. Best is trial 1 with value: 75.30434782608695.\n"
     ]
    },
    {
     "name": "stdout",
     "output_type": "stream",
     "text": [
      "execution time 128.3889570236206 seconds\n"
     ]
    },
    {
     "name": "stderr",
     "output_type": "stream",
     "text": [
      "[I 2025-04-16 20:03:33,377] Trial 2 finished with value: 73.56521739130434 and parameters: {'dropout_rate': 0.5760198923231112, 'lr': 0.00535057099354885}. Best is trial 1 with value: 75.30434782608695.\n"
     ]
    },
    {
     "name": "stdout",
     "output_type": "stream",
     "text": [
      "execution time 131.01956605911255 seconds\n"
     ]
    },
    {
     "name": "stderr",
     "output_type": "stream",
     "text": [
      "[I 2025-04-16 20:05:50,453] Trial 3 finished with value: 77.3913043478261 and parameters: {'dropout_rate': 0.6369420038515443, 'lr': 0.001329007900191198}. Best is trial 3 with value: 77.3913043478261.\n"
     ]
    },
    {
     "name": "stdout",
     "output_type": "stream",
     "text": [
      "execution time 136.6234781742096 seconds\n"
     ]
    },
    {
     "name": "stderr",
     "output_type": "stream",
     "text": [
      "[I 2025-04-16 20:08:14,097] Trial 4 finished with value: 44.69565217391305 and parameters: {'dropout_rate': 0.2536735667713067, 'lr': 2.1915558459110003e-05}. Best is trial 3 with value: 77.3913043478261.\n"
     ]
    },
    {
     "name": "stdout",
     "output_type": "stream",
     "text": [
      "execution time 143.16871190071106 seconds\n"
     ]
    },
    {
     "name": "stderr",
     "output_type": "stream",
     "text": [
      "[I 2025-04-16 20:09:26,775] Trial 5 pruned. \n",
      "[I 2025-04-16 20:11:56,815] Trial 6 finished with value: 76.17391304347827 and parameters: {'dropout_rate': 0.6883726842650384, 'lr': 0.0002798854058121626}. Best is trial 3 with value: 77.3913043478261.\n"
     ]
    },
    {
     "name": "stdout",
     "output_type": "stream",
     "text": [
      "execution time 149.54503226280212 seconds\n"
     ]
    },
    {
     "name": "stderr",
     "output_type": "stream",
     "text": [
      "[I 2025-04-16 20:13:11,823] Trial 7 pruned. \n",
      "[I 2025-04-16 20:14:28,099] Trial 8 pruned. \n",
      "[I 2025-04-16 20:15:42,119] Trial 9 pruned. \n",
      "[I 2025-04-16 20:16:57,178] Trial 10 pruned. \n",
      "[I 2025-04-16 20:19:29,939] Trial 11 pruned. \n",
      "[I 2025-04-16 20:21:59,537] Trial 12 finished with value: 75.82608695652173 and parameters: {'dropout_rate': 0.6959276846850988, 'lr': 0.0016719975945587572}. Best is trial 3 with value: 77.3913043478261.\n"
     ]
    },
    {
     "name": "stdout",
     "output_type": "stream",
     "text": [
      "execution time 149.12617588043213 seconds\n"
     ]
    },
    {
     "name": "stderr",
     "output_type": "stream",
     "text": [
      "[I 2025-04-16 20:23:13,919] Trial 13 pruned. \n",
      "[I 2025-04-16 20:24:28,640] Trial 14 pruned. \n",
      "[I 2025-04-16 20:26:58,869] Trial 15 finished with value: 76.34782608695652 and parameters: {'dropout_rate': 0.6432794161137829, 'lr': 0.000247746446157692}. Best is trial 3 with value: 77.3913043478261.\n"
     ]
    },
    {
     "name": "stdout",
     "output_type": "stream",
     "text": [
      "execution time 149.7555446624756 seconds\n"
     ]
    },
    {
     "name": "stderr",
     "output_type": "stream",
     "text": [
      "[I 2025-04-16 20:28:13,567] Trial 16 pruned. \n",
      "[I 2025-04-16 20:29:29,287] Trial 17 pruned. \n",
      "[I 2025-04-16 20:30:44,124] Trial 18 pruned. \n",
      "[I 2025-04-16 20:31:59,434] Trial 19 pruned. \n"
     ]
    }
   ],
   "source": [
    "def objective(trail):\n",
    "    dropout_rate=trail.suggest_float(\"dropout_rate\",0.2,0.7)\n",
    "    lr=trail.suggest_float(\"lr\",1e-5,1e-2,log=True)\n",
    "\n",
    "    model=carclassifierResnet50(num_classes=num_classes,dropout_rate=dropout_rate).to(device)\n",
    "\n",
    "    optimizer=optim.Adam(filter(lambda p:p.requires_grad,model.parameters()),lr=lr)\n",
    "    criterion=nn.CrossEntropyLoss()\n",
    "\n",
    "\n",
    "    #training loop\n",
    "    epochs=2\n",
    "    start=time.time()\n",
    "    for epoch in range(epochs):\n",
    "        model.train()\n",
    "        training_loss=0\n",
    "        for batch,(images,labels) in enumerate(train_loader):\n",
    "            images,labels=images.to(device),labels.to(device)\n",
    "            optimizer.zero_grad()\n",
    "            output=model(images)\n",
    "            loss=criterion(output,labels)\n",
    "            loss.backward()\n",
    "            optimizer.step()\n",
    "            training_loss+=loss.item()*images.size(0)\n",
    "        epoch_loss=training_loss/len(train_loader.dataset)\n",
    "\n",
    "        #validation\n",
    "        model.eval()\n",
    "        correct=0\n",
    "        total=0\n",
    "        with torch.no_grad():\n",
    "            for images,labels in val_loader:\n",
    "                images,labels=images.to(device),labels.to(device)\n",
    "                output=model(images)\n",
    "                _,predicted=torch.max(output.data,1)\n",
    "                total+=labels.size(0)\n",
    "                correct+=(labels==predicted).sum().item()\n",
    "\n",
    "        accuracy=(correct*100)/total\n",
    "        trail.report(accuracy,epoch)\n",
    "        #handle pruning(if applicable)\n",
    "        if trail.should_prune():\n",
    "            raise optuna.exceptions.TrialPruned()\n",
    "\n",
    "    end=time.time()\n",
    "    print(f\"execution time {end-start} seconds\")\n",
    "    return  accuracy\n",
    "            \n",
    "#create study and optimize\n",
    "\n",
    "study=optuna.create_study(direction=\"maximize\")\n",
    "study.optimize(objective,n_trials=20)"
   ]
  },
  {
   "cell_type": "markdown",
   "id": "df56e982-476c-4fd1-ba59-93b16ca93ab9",
   "metadata": {},
   "source": [
    "If trial.should_prune(): raise TrialPruned()\n",
    "This tells Optuna to check if this trial should be stopped early.\n",
    "\n",
    "Optuna compares this trial’s progress to others (based on a pruning strategy like MedianPruner, SuccessiveHalvingPruner, etc.).\n",
    "\n",
    "If the current trial is performing worse than expected at this stage, Optuna prunes it (stops it early)"
   ]
  },
  {
   "cell_type": "code",
   "execution_count": 51,
   "id": "a3886e64-c391-4b78-a5d6-9365f7f5fa2e",
   "metadata": {},
   "outputs": [
    {
     "data": {
      "text/plain": [
       "{'dropout_rate': 0.6369420038515443, 'lr': 0.001329007900191198}"
      ]
     },
     "execution_count": 51,
     "metadata": {},
     "output_type": "execute_result"
    }
   ],
   "source": [
    "study.best_params"
   ]
  }
 ],
 "metadata": {
  "kernelspec": {
   "display_name": "Python 3 (ipykernel)",
   "language": "python",
   "name": "python3"
  },
  "language_info": {
   "codemirror_mode": {
    "name": "ipython",
    "version": 3
   },
   "file_extension": ".py",
   "mimetype": "text/x-python",
   "name": "python",
   "nbconvert_exporter": "python",
   "pygments_lexer": "ipython3",
   "version": "3.11.8"
  }
 },
 "nbformat": 4,
 "nbformat_minor": 5
}
